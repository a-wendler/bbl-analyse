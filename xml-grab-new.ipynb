{
 "cells": [
  {
   "cell_type": "code",
   "execution_count": 5,
   "metadata": {},
   "outputs": [],
   "source": [
    "import requests\n",
    "from bs4 import BeautifulSoup as soup\n",
    "import os\n",
    "import concurrent.futures\n",
    "import itertools\n",
    "from tqdm import tqdm\n",
    "from typing import ItemsView\n",
    "\n",
    "# base_url = 'https://digital.slub-dresden.de/oai/'\n",
    "dest_path = '/media/wendler/SAMSUNG1TB/bbl-images'"
   ]
  },
  {
   "cell_type": "code",
   "execution_count": 2,
   "metadata": {},
   "outputs": [],
   "source": [
    "jahr_url = 'https://digital.slub-dresden.de/oai?verb=GetRecord&metadataPrefix=mets&identifier=oai:de:slub-dresden:db:id-39946221X'\n",
    "response = requests.get(jahr_url)\n",
    "output_soup = soup(response.content, \"lxml\")\n",
    "# dict comprehension mit jahreszahl als key und url der jahresausgabe als value\n",
    "jahre = {element['orderlabel']: element.find('mets:mptr')['xlink:href'] for element in output_soup.find_all('mets:div', {'type':'year'})}"
   ]
  },
  {
   "cell_type": "code",
   "execution_count": 3,
   "metadata": {},
   "outputs": [],
   "source": [
    "hefte = dict()\n",
    "for jahr in jahre:\n",
    "    response = requests.get(jahre[jahr])\n",
    "    output_soup = soup(response.content, \"lxml\")\n",
    "    hefte.update({element['orderlabel']: element.find('mets:mptr')['xlink:href'] for element in output_soup.find_all('mets:div', {'type':'day'})})\n"
   ]
  },
  {
   "cell_type": "code",
   "execution_count": 7,
   "metadata": {},
   "outputs": [],
   "source": [
    "def download_heft(hefte: ItemsView[str, str]) -> str:\n",
    "    heft = hefte[0]\n",
    "    url = hefte[1]\n",
    "    try:\n",
    "        # xml datei laden\n",
    "        response = requests.get(url)\n",
    "        output_soup = soup(response.content, \"lxml\")\n",
    "\n",
    "        # id suchen <slub:id type=\"digital\">39946221X-1834010101</slub:id>\n",
    "        id = output_soup.find('slub:id', {'type':'digital'}).text.split('-')[-1]\n",
    "\n",
    "        # zielverzeichnis der bilder erstellen\n",
    "        try:\n",
    "            os.mkdir(f\"{dest_path}/{id}\")\n",
    "        except FileExistsError:\n",
    "            pass\n",
    "\n",
    "        # xml datei speichern\n",
    "        with open(f'{dest_path}/xml/{id}.xml', 'w') as f:\n",
    "            f.write(output_soup.prettify())\n",
    "        \n",
    "        dateien = output_soup.find('mets:filegrp', {'use':'ORIGINAL'}).find_all('mets:flocat')\n",
    "        \n",
    "        # heftumfang schreiben\n",
    "        with open(f\"{dest_path}/heftumfang.csv\", 'a') as f:\n",
    "                f.write(f\"{id},{heft},{len(dateien)}\\n\")\n",
    "        \n",
    "        # bild-urls schreiben\n",
    "        with open(f\"{dest_path}/image_urls.csv\", 'a') as f:\n",
    "                \n",
    "            for image in dateien:\n",
    "                \n",
    "                f.write(f\"{id},{heft},{image['xlink:href']}\\n\")\n",
    "                image_r = requests.get(image['xlink:href'])\n",
    "                with open(f\"{dest_path}/{id}/{image['xlink:href'].split('/')[-1]}\", 'wb') as f2:\n",
    "                    f2.write(image_r.content)\n",
    "        \n",
    "        return f\"{id},{heft},completed\\n\"\n",
    "    except Exception as e:\n",
    "        return str(e)"
   ]
  },
  {
   "cell_type": "code",
   "execution_count": 11,
   "metadata": {},
   "outputs": [
    {
     "name": "stderr",
     "output_type": "stream",
     "text": [
      "10it [00:08,  1.19it/s]"
     ]
    },
    {
     "name": "stdout",
     "output_type": "stream",
     "text": [
      "CPU times: user 2.74 s, sys: 1.06 s, total: 3.8 s\n",
      "Wall time: 8.44 s\n"
     ]
    },
    {
     "name": "stderr",
     "output_type": "stream",
     "text": [
      "\n"
     ]
    }
   ],
   "source": [
    "%%time\n",
    "# We can use a with statement to ensure threads are cleaned up promptly\n",
    "test_hefte = dict(itertools.islice(hefte.items(), 10))\n",
    "with concurrent.futures.ThreadPoolExecutor() as executor:\n",
    "    results = tqdm(executor.map(download_heft, test_hefte.items()))\n",
    "    with open(\"log.log\", \"w\") as log:\n",
    "        for result in results:\n",
    "            try:\n",
    "                log.write(result)\n",
    "            except Exception as exc:\n",
    "                print(exc)"
   ]
  },
  {
   "cell_type": "code",
   "execution_count": 57,
   "metadata": {},
   "outputs": [
    {
     "name": "stdout",
     "output_type": "stream",
     "text": [
      "1834-01-10 existiert bereits\n",
      "CPU times: user 190 ms, sys: 51.7 ms, total: 242 ms\n",
      "Wall time: 1.89 s\n"
     ]
    }
   ],
   "source": [
    "%%time\n",
    "test_url = \"https://digital.slub-dresden.de/data/kitodo/Brsfded_39946221X-18340110/Brsfded_39946221X-18340110_mets.xml\"\n",
    "download_heft('1834-01-10', test_url)"
   ]
  }
 ],
 "metadata": {
  "interpreter": {
   "hash": "399238374a065e6ba8b3caf5d52dd0dd35b3269f1e87526041e7a2ed68d24989"
  },
  "kernelspec": {
   "display_name": "Python 3.9.7 64-bit ('base-poNABwGt-py3.9': poetry)",
   "language": "python",
   "name": "python3"
  },
  "language_info": {
   "codemirror_mode": {
    "name": "ipython",
    "version": 3
   },
   "file_extension": ".py",
   "mimetype": "text/x-python",
   "name": "python",
   "nbconvert_exporter": "python",
   "pygments_lexer": "ipython3",
   "version": "3.9.7"
  },
  "orig_nbformat": 4
 },
 "nbformat": 4,
 "nbformat_minor": 2
}
